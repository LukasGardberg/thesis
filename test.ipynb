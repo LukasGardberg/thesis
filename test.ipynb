{
 "cells": [
  {
   "cell_type": "code",
   "execution_count": 25,
   "metadata": {},
   "outputs": [],
   "source": [
    "from torchvision import transforms\n",
    "from torch.utils.data import DataLoader\n",
    "from torchvision.datasets import MNIST\n",
    "import torch\n",
    "\n",
    "batch_size = 1\n",
    "\n",
    "torch.manual_seed(0)\n",
    "\n",
    "transform = transforms.Compose([\n",
    "    transforms.ToTensor(),\n",
    "    transforms.Normalize((0.5,), (0.5,))\n",
    "])\n",
    "\n",
    "mnist = MNIST('./data', train=True, download=True, transform=transform)\n",
    "data_loader = DataLoader(mnist, batch_size=batch_size, shuffle=True)"
   ]
  },
  {
   "cell_type": "code",
   "execution_count": 36,
   "metadata": {},
   "outputs": [
    {
     "data": {
      "text/plain": [
       "====================================================================================================\n",
       "Layer (type:depth-idx)                             Output Shape              Param #\n",
       "====================================================================================================\n",
       "Unet                                               [1, 1, 28, 28]            --\n",
       "├─Conv2d: 1-1                                      [1, 18, 28, 28]           900\n",
       "├─Sequential: 1-2                                  [1, 112]                  --\n",
       "│    └─SinusoidalPositionEmbeddings: 2-1           [1, 28]                   --\n",
       "│    └─Linear: 2-2                                 [1, 112]                  3,248\n",
       "│    └─GELU: 2-3                                   [1, 112]                  --\n",
       "│    └─Linear: 2-4                                 [1, 112]                  12,656\n",
       "├─ModuleList: 1-3                                  --                        --\n",
       "│    └─ModuleList: 2-5                             --                        47,376\n",
       "├─ResBlock: 1-4                                    [1, 28, 28, 28]           --\n",
       "│    └─Block: 2-6                                  [1, 28, 28, 28]           7,140\n",
       "│    └─Sequential: 2-7                             [1, 28]                   3,164\n",
       "│    └─Block: 2-8                                  [1, 28, 28, 28]           7,140\n",
       "│    └─Identity: 2-9                               [1, 28, 28, 28]           --\n",
       "├─Residual: 1-5                                    [1, 28, 28, 28]           --\n",
       "│    └─PreNorm: 2-10                               [1, 28, 28, 28]           14,420\n",
       "├─ResBlock: 1-6                                    [1, 28, 28, 28]           --\n",
       "│    └─Block: 2-11                                 [1, 28, 28, 28]           7,140\n",
       "│    └─Sequential: 2-12                            [1, 28]                   3,164\n",
       "│    └─Block: 2-13                                 [1, 28, 28, 28]           7,140\n",
       "│    └─Identity: 2-14                              [1, 28, 28, 28]           --\n",
       "├─Sequential: 1-7                                  [1, 1, 28, 28]            --\n",
       "│    └─ResBlock: 2-15                              [1, 28, 28, 28]           14,280\n",
       "│    └─Conv2d: 2-16                                [1, 1, 28, 28]            29\n",
       "====================================================================================================\n",
       "Total params: 127,797\n",
       "Trainable params: 127,797\n",
       "Non-trainable params: 0\n",
       "Total mult-adds (M): 77.26\n",
       "====================================================================================================\n",
       "Input size (MB): 0.00\n",
       "Forward/backward pass size (MB): 9.50\n",
       "Params size (MB): 0.51\n",
       "Estimated Total Size (MB): 10.02\n",
       "===================================================================================================="
      ]
     },
     "execution_count": 36,
     "metadata": {},
     "output_type": "execute_result"
    }
   ],
   "source": [
    "from diff_unet import Unet\n",
    "\n",
    "img = next(iter(data_loader))[0]\n",
    "t = torch.randint(0, 100, (batch_size,))\n",
    "\n",
    "batch_size, channels, height, width = img.shape\n",
    "\n",
    "unet = Unet(dim=height,\n",
    "            channels=channels,\n",
    "            dim_mults=(1,),\n",
    "            resnet_block_groups=7,\n",
    "            use_convnext=False)\n",
    "\n",
    "from torchinfo import summary\n",
    "\n",
    "summary(unet, [(batch_size, channels, height, width), (batch_size,)], depth=2)"
   ]
  },
  {
   "cell_type": "code",
   "execution_count": null,
   "metadata": {},
   "outputs": [],
   "source": [
    "import matplotlib.pyplot as plt\n",
    "\n",
    "out = unet(img, t)\n",
    "fig, ax = plt.subplots(1, 2, figsize=(10, 5))\n",
    "ax[0].imshow(img[0, 0, :, :].detach().numpy());\n",
    "ax[1].imshow(out[0, 0, :, :].detach().numpy());"
   ]
  },
  {
   "cell_type": "code",
   "execution_count": null,
   "metadata": {},
   "outputs": [],
   "source": [
    "# Print unet attributes\n",
    "dir(unet)"
   ]
  },
  {
   "cell_type": "code",
   "execution_count": 35,
   "metadata": {},
   "outputs": [
    {
     "name": "stdout",
     "output_type": "stream",
     "text": [
      "torch.Size([18, 1, 7, 7])\n",
      "torch.Size([18])\n",
      "torch.Size([112, 28])\n",
      "torch.Size([112])\n",
      "torch.Size([112, 112])\n",
      "torch.Size([112])\n",
      "torch.Size([28, 112])\n",
      "torch.Size([28])\n",
      "torch.Size([28, 18, 3, 3])\n",
      "torch.Size([28])\n",
      "torch.Size([28])\n",
      "torch.Size([28])\n",
      "torch.Size([28, 28, 3, 3])\n",
      "torch.Size([28])\n",
      "torch.Size([28])\n",
      "torch.Size([28])\n",
      "torch.Size([28, 18, 1, 1])\n",
      "torch.Size([28])\n",
      "torch.Size([28, 112])\n",
      "torch.Size([28])\n",
      "torch.Size([28, 28, 3, 3])\n",
      "torch.Size([28])\n",
      "torch.Size([28])\n",
      "torch.Size([28])\n",
      "torch.Size([28, 28, 3, 3])\n",
      "torch.Size([28])\n",
      "torch.Size([28])\n",
      "torch.Size([28])\n",
      "torch.Size([384, 28, 1, 1])\n",
      "torch.Size([28, 128, 1, 1])\n",
      "torch.Size([28])\n",
      "torch.Size([28])\n",
      "torch.Size([28])\n",
      "torch.Size([28])\n",
      "torch.Size([28])\n",
      "torch.Size([28, 112])\n",
      "torch.Size([28])\n",
      "torch.Size([28, 28, 3, 3])\n",
      "torch.Size([28])\n",
      "torch.Size([28])\n",
      "torch.Size([28])\n",
      "torch.Size([28, 28, 3, 3])\n",
      "torch.Size([28])\n",
      "torch.Size([28])\n",
      "torch.Size([28])\n",
      "torch.Size([384, 28, 1, 1])\n",
      "torch.Size([28, 128, 1, 1])\n",
      "torch.Size([28])\n",
      "torch.Size([28])\n",
      "torch.Size([28])\n",
      "torch.Size([28, 112])\n",
      "torch.Size([28])\n",
      "torch.Size([28, 28, 3, 3])\n",
      "torch.Size([28])\n",
      "torch.Size([28])\n",
      "torch.Size([28])\n",
      "torch.Size([28, 28, 3, 3])\n",
      "torch.Size([28])\n",
      "torch.Size([28])\n",
      "torch.Size([28])\n",
      "torch.Size([28, 28, 3, 3])\n",
      "torch.Size([28])\n",
      "torch.Size([28])\n",
      "torch.Size([28])\n",
      "torch.Size([28, 28, 3, 3])\n",
      "torch.Size([28])\n",
      "torch.Size([28])\n",
      "torch.Size([28])\n",
      "torch.Size([1, 28, 1, 1])\n",
      "torch.Size([1])\n"
     ]
    }
   ],
   "source": [
    "for param in unet.parameters():\n",
    "    print(param.shape)"
   ]
  }
 ],
 "metadata": {
  "kernelspec": {
   "display_name": "Python 3.10.4 ('thesis')",
   "language": "python",
   "name": "python3"
  },
  "language_info": {
   "codemirror_mode": {
    "name": "ipython",
    "version": 3
   },
   "file_extension": ".py",
   "mimetype": "text/x-python",
   "name": "python",
   "nbconvert_exporter": "python",
   "pygments_lexer": "ipython3",
   "version": "3.8.13"
  },
  "orig_nbformat": 4,
  "vscode": {
   "interpreter": {
    "hash": "4379223da8825d70b8c2eb245c1476bc432c86a2a66eb506943eca18af8434f1"
   }
  }
 },
 "nbformat": 4,
 "nbformat_minor": 2
}
