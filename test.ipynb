{
 "cells": [
  {
   "cell_type": "code",
   "execution_count": 4,
   "metadata": {},
   "outputs": [
    {
     "ename": "TypeError",
     "evalue": "griffinlim() missing 9 required positional arguments: 'window', 'n_fft', 'hop_length', 'win_length', 'power', 'n_iter', 'momentum', 'length', and 'rand_init'",
     "output_type": "error",
     "traceback": [
      "\u001b[0;31m---------------------------------------------------------------------------\u001b[0m",
      "\u001b[0;31mTypeError\u001b[0m                                 Traceback (most recent call last)",
      "\u001b[1;32m/Users/lukgar/Desktop/repos/thesis-stuff/test.ipynb Cell 1\u001b[0m in \u001b[0;36m<cell line: 4>\u001b[0;34m()\u001b[0m\n\u001b[1;32m      <a href='vscode-notebook-cell:/Users/lukgar/Desktop/repos/thesis-stuff/test.ipynb#W0sZmlsZQ%3D%3D?line=0'>1</a>\u001b[0m \u001b[39mimport\u001b[39;00m \u001b[39mtorch\u001b[39;00m\n\u001b[1;32m      <a href='vscode-notebook-cell:/Users/lukgar/Desktop/repos/thesis-stuff/test.ipynb#W0sZmlsZQ%3D%3D?line=1'>2</a>\u001b[0m \u001b[39mfrom\u001b[39;00m \u001b[39mtorchaudio\u001b[39;00m\u001b[39m.\u001b[39;00m\u001b[39mfunctional\u001b[39;00m \u001b[39mimport\u001b[39;00m griffinlim\n\u001b[0;32m----> <a href='vscode-notebook-cell:/Users/lukgar/Desktop/repos/thesis-stuff/test.ipynb#W0sZmlsZQ%3D%3D?line=3'>4</a>\u001b[0m r \u001b[39m=\u001b[39m griffinlim(torch\u001b[39m.\u001b[39;49mrandn(\u001b[39m1\u001b[39;49m, \u001b[39m1000\u001b[39;49m, \u001b[39m1000\u001b[39;49m))\n",
      "\u001b[0;31mTypeError\u001b[0m: griffinlim() missing 9 required positional arguments: 'window', 'n_fft', 'hop_length', 'win_length', 'power', 'n_iter', 'momentum', 'length', and 'rand_init'"
     ]
    }
   ],
   "source": [
    "import torch\n",
    "from torchaudio.functional import griffinlim\n",
    "\n",
    "r = griffinlim(torch.randn(1, 1000, 1000))"
   ]
  }
 ],
 "metadata": {
  "kernelspec": {
   "display_name": "Python 3.10.4 ('thesis')",
   "language": "python",
   "name": "python3"
  },
  "language_info": {
   "codemirror_mode": {
    "name": "ipython",
    "version": 3
   },
   "file_extension": ".py",
   "mimetype": "text/x-python",
   "name": "python",
   "nbconvert_exporter": "python",
   "pygments_lexer": "ipython3",
   "version": "3.10.4"
  },
  "orig_nbformat": 4,
  "vscode": {
   "interpreter": {
    "hash": "4379223da8825d70b8c2eb245c1476bc432c86a2a66eb506943eca18af8434f1"
   }
  }
 },
 "nbformat": 4,
 "nbformat_minor": 2
}
